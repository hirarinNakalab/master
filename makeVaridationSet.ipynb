{
 "cells": [
  {
   "cell_type": "code",
   "execution_count": 24,
   "metadata": {},
   "outputs": [],
   "source": [
    "import os\n",
    "\n",
    "INPUT_DOC_DIR = './matsumoto/houhan_doc/low'\n",
    "\n",
    "def get_all_files(directory):\n",
    "    for root, dirs, files in os.walk(directory):\n",
    "        for file in files:\n",
    "            yield os.path.join(root, file)\n",
    "\n",
    "corpus = list(get_all_files(INPUT_DOC_DIR))"
   ]
  },
  {
   "cell_type": "code",
   "execution_count": 25,
   "metadata": {},
   "outputs": [
    {
     "data": {
      "text/plain": [
       "['./matsumoto/houhan_doc/low/low007.txt',\n",
       " './matsumoto/houhan_doc/low/low003.txt',\n",
       " './matsumoto/houhan_doc/low/low005.txt',\n",
       " './matsumoto/houhan_doc/low/low004.txt',\n",
       " './matsumoto/houhan_doc/low/low001.txt',\n",
       " './matsumoto/houhan_doc/low/low002.txt',\n",
       " './matsumoto/houhan_doc/low/low009.txt',\n",
       " './matsumoto/houhan_doc/low/low006.txt',\n",
       " './matsumoto/houhan_doc/low/low008.txt']"
      ]
     },
     "execution_count": 25,
     "metadata": {},
     "output_type": "execute_result"
    }
   ],
   "source": [
    "corpus"
   ]
  },
  {
   "cell_type": "code",
   "execution_count": 26,
   "metadata": {},
   "outputs": [],
   "source": [
    "import random\n",
    "shuffle_corpus = random.sample(corpus, len(corpus))"
   ]
  },
  {
   "cell_type": "code",
   "execution_count": 27,
   "metadata": {},
   "outputs": [
    {
     "data": {
      "text/plain": [
       "['./matsumoto/houhan_doc/low/low002.txt',\n",
       " './matsumoto/houhan_doc/low/low005.txt',\n",
       " './matsumoto/houhan_doc/low/low001.txt',\n",
       " './matsumoto/houhan_doc/low/low006.txt',\n",
       " './matsumoto/houhan_doc/low/low008.txt',\n",
       " './matsumoto/houhan_doc/low/low004.txt',\n",
       " './matsumoto/houhan_doc/low/low007.txt',\n",
       " './matsumoto/houhan_doc/low/low009.txt',\n",
       " './matsumoto/houhan_doc/low/low003.txt']"
      ]
     },
     "execution_count": 27,
     "metadata": {},
     "output_type": "execute_result"
    }
   ],
   "source": [
    "len(shuffle_corpus)\n",
    "shuffle_corpus"
   ]
  },
  {
   "cell_type": "code",
   "execution_count": 28,
   "metadata": {},
   "outputs": [],
   "source": [
    "TEST_DIRS = []\n",
    "TRAIN_DIRS = []\n",
    "\n",
    "for i in range(3):\n",
    "    TEST_DIRS.append(\"low_test{:d}\".format(i))\n",
    "    TRAIN_DIRS.append(\"low_train{:d}\".format(i))\n",
    "\n",
    "DIRS = TEST_DIRS + TRAIN_DIRS\n",
    "for dirs in DIRS:\n",
    "    os.mkdir(dirs)"
   ]
  },
  {
   "cell_type": "code",
   "execution_count": 29,
   "metadata": {},
   "outputs": [],
   "source": [
    "import shutil\n",
    "import numpy\n",
    "\n",
    "k = 3\n",
    "n_samples = len(shuffle_corpus)\n",
    "fold_size = n_samples // k"
   ]
  },
  {
   "cell_type": "code",
   "execution_count": 30,
   "metadata": {},
   "outputs": [],
   "source": [
    "for fold in range(k):\n",
    "    for i in range(n_samples):\n",
    "        if (fold + 1) * fold_size - 1 >= i >= fold * fold_size:\n",
    "            TE_DIR = \"./\" + TEST_DIRS[fold] + \"/\" + os.path.basename(shuffle_corpus[i])\n",
    "            shutil.copyfile(shuffle_corpus[i], TE_DIR)\n",
    "        else:\n",
    "            TR_DIR = \"./\" + TRAIN_DIRS[fold] + \"/\" + os.path.basename(shuffle_corpus[i])\n",
    "            shutil.copyfile(shuffle_corpus[i], TR_DIR)"
   ]
  },
  {
   "cell_type": "code",
   "execution_count": null,
   "metadata": {},
   "outputs": [],
   "source": []
  }
 ],
 "metadata": {
  "kernelspec": {
   "display_name": "Python 3",
   "language": "python",
   "name": "python3"
  },
  "language_info": {
   "codemirror_mode": {
    "name": "ipython",
    "version": 3
   },
   "file_extension": ".py",
   "mimetype": "text/x-python",
   "name": "python",
   "nbconvert_exporter": "python",
   "pygments_lexer": "ipython3",
   "version": "3.6.5"
  }
 },
 "nbformat": 4,
 "nbformat_minor": 2
}
